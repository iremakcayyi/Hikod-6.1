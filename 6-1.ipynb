{
 "cells": [
  {
   "cell_type": "code",
   "execution_count": 1,
   "id": "015347cd",
   "metadata": {},
   "outputs": [],
   "source": [
    "ogrenciler = {\n",
    "    \"Ali\": {\"Matematik\": 80, \"Fizik\": 75, \"Kimya\": 85},\n",
    "    \"Ayşe\": {\"Matematik\": 90, \"Fizik\": 85, \"Kimya\": 95},\n",
    "    \"Mehmet\": {\"Matematik\": 70, \"Fizik\": 65, \"Kimya\": 75},\n",
    "    \"Fatma\": {\"Matematik\": 85, \"Fizik\": 80, \"Kimya\": 90}\n",
    "}\n"
   ]
  },
  {
   "cell_type": "code",
   "execution_count": 2,
   "id": "a931d82a",
   "metadata": {},
   "outputs": [],
   "source": [
    "def yeni_ogrenci_ekle():\n",
    "    ad = input(\"Öğrenci adı: \")\n",
    "    mat_not = int(input(\"Matematik notu: \"))\n",
    "    fizik_not = int(input(\"Fizik notu: \"))\n",
    "    kimya_not = int(input(\"Kimya notu: \"))\n",
    "    ogrenciler[ad] = {\"Matematik\": mat_not, \"Fizik\": fizik_not, \"Kimya\": kimya_not}\n",
    "    print(f\"{ad} adlı öğrenci eklendi.\")\n"
   ]
  },
  {
   "cell_type": "code",
   "execution_count": 4,
   "id": "5963e3cc",
   "metadata": {},
   "outputs": [
    {
     "name": "stdout",
     "output_type": "stream",
     "text": [
      "Öğrenci adı: irem\n",
      "Matematik notu: 50\n",
      "Fizik notu: 60\n",
      "Kimya notu: 20\n",
      "irem adlı öğrenci eklendi.\n"
     ]
    }
   ],
   "source": [
    " yeni_ogrenci_ekle()"
   ]
  },
  {
   "cell_type": "code",
   "execution_count": 5,
   "id": "36151471",
   "metadata": {},
   "outputs": [],
   "source": [
    "def not_degistir():\n",
    "    ad = input(\"Notunu değiştirmek istediğiniz öğrencinin adı: \")\n",
    "    if ad in ogrenciler:\n",
    "        ders = input(\"Hangi dersin notunu değiştirmek istiyorsunuz (Matematik, Fizik, Kimya): \")\n",
    "        yeni_not = int(input(f\"Yeni {ders} notu: \"))\n",
    "        ogrenciler[ad][ders] = yeni_not\n",
    "        print(f\"{ad} adlı öğrencinin {ders} notu güncellendi.\")\n",
    "    else:\n",
    "        print(\"Öğrenci bulunamadı.\")"
   ]
  },
  {
   "cell_type": "code",
   "execution_count": 6,
   "id": "66b0159e",
   "metadata": {},
   "outputs": [
    {
     "name": "stdout",
     "output_type": "stream",
     "text": [
      "Notunu değiştirmek istediğiniz öğrencinin adı: irem\n",
      "Hangi dersin notunu değiştirmek istiyorsunuz (Matematik, Fizik, Kimya): Matematik\n",
      "Yeni Matematik notu: 100\n",
      "irem adlı öğrencinin Matematik notu güncellendi.\n"
     ]
    }
   ],
   "source": [
    "not_degistir()"
   ]
  },
  {
   "cell_type": "code",
   "execution_count": 10,
   "id": "e6814d35",
   "metadata": {},
   "outputs": [],
   "source": [
    "def ogrenci_bilgileri():\n",
    "    ad = input(\"Bilgilerini görmek istediğiniz öğrencinin adı: \")\n",
    "    if ad in ogrenciler:\n",
    "        print(f\"{ad}'in notları:\")\n",
    "        for ders, notu in ogrenciler[ad].items():\n",
    "            print(f\"{ders}: {notu}\")\n",
    "    else:\n",
    "        print(\"Öğrenci bulunamadı.\")"
   ]
  },
  {
   "cell_type": "code",
   "execution_count": 13,
   "id": "4b597ea6",
   "metadata": {},
   "outputs": [
    {
     "name": "stdout",
     "output_type": "stream",
     "text": [
      "Bilgilerini görmek istediğiniz öğrencinin adı: Ali\n",
      "Ali'in notları:\n",
      "Matematik: 80\n",
      "Fizik: 75\n",
      "Kimya: 85\n"
     ]
    }
   ],
   "source": [
    "ogrenci_bilgileri()\n"
   ]
  },
  {
   "cell_type": "code",
   "execution_count": 14,
   "id": "d610820e",
   "metadata": {},
   "outputs": [
    {
     "name": "stdout",
     "output_type": "stream",
     "text": [
      "\n",
      "1. Yeni öğrenci ekle\n",
      "2. Notları değiştir\n",
      "3. Öğrenci bilgilerini görüntüle\n",
      "4. Çıkış\n",
      "Lütfen yapmak istediğiniz işlemi seçin (1/2/3/4): 2\n",
      "Notunu değiştirmek istediğiniz öğrencinin adı: Ali\n",
      "Hangi dersin notunu değiştirmek istiyorsunuz (Matematik, Fizik, Kimya): Matematik\n",
      "Yeni Matematik notu: 60\n",
      "Ali adlı öğrencinin Matematik notu güncellendi.\n",
      "\n",
      "1. Yeni öğrenci ekle\n",
      "2. Notları değiştir\n",
      "3. Öğrenci bilgilerini görüntüle\n",
      "4. Çıkış\n",
      "Lütfen yapmak istediğiniz işlemi seçin (1/2/3/4): 3\n",
      "Bilgilerini görmek istediğiniz öğrencinin adı: irem\n",
      "irem'in notları:\n",
      "Matematik: 100\n",
      "Fizik: 60\n",
      "Kimya: 20\n",
      "\n",
      "1. Yeni öğrenci ekle\n",
      "2. Notları değiştir\n",
      "3. Öğrenci bilgilerini görüntüle\n",
      "4. Çıkış\n",
      "Lütfen yapmak istediğiniz işlemi seçin (1/2/3/4): 4\n",
      "Programdan çıkılıyor...\n"
     ]
    }
   ],
   "source": [
    "while True:\n",
    "    print(\"\\n1. Yeni öğrenci ekle\")\n",
    "    print(\"2. Notları değiştir\")\n",
    "    print(\"3. Öğrenci bilgilerini görüntüle\")\n",
    "    print(\"4. Çıkış\")\n",
    "    secim = input(\"Lütfen yapmak istediğiniz işlemi seçin (1/2/3/4): \")\n",
    "\n",
    "    if secim == \"1\":\n",
    "        yeni_ogrenci_ekle()\n",
    "    elif secim == \"2\":\n",
    "        not_degistir()\n",
    "    elif secim == \"3\":\n",
    "        ogrenci_bilgileri()\n",
    "    elif secim == \"4\":\n",
    "        print(\"Programdan çıkılıyor...\")\n",
    "        break\n",
    "    else:\n",
    "        print(\"Geçersiz bir seçim yaptınız. Lütfen tekrar deneyin.\")"
   ]
  }
 ],
 "metadata": {
  "kernelspec": {
   "display_name": "Python 3 (ipykernel)",
   "language": "python",
   "name": "python3"
  },
  "language_info": {
   "codemirror_mode": {
    "name": "ipython",
    "version": 3
   },
   "file_extension": ".py",
   "mimetype": "text/x-python",
   "name": "python",
   "nbconvert_exporter": "python",
   "pygments_lexer": "ipython3",
   "version": "3.11.5"
  }
 },
 "nbformat": 4,
 "nbformat_minor": 5
}
